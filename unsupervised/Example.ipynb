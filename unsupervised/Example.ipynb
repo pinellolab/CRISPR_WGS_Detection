{
 "cells": [
  {
   "cell_type": "markdown",
   "id": "d1772f32-034e-4e99-8516-4be9ed9f57bf",
   "metadata": {},
   "source": [
    "# Step 1\n",
    "Detect regions with high rates of indels in the treated vs control sample"
   ]
  },
  {
   "cell_type": "code",
   "execution_count": null,
   "id": "5cfba43d-a734-417f-a85f-b7c810156ca5",
   "metadata": {},
   "outputs": [],
   "source": [
    "#perl 01_run.pl"
   ]
  },
  {
   "cell_type": "markdown",
   "id": "e100b82f-7c7d-4f17-85fc-fbc979c1f462",
   "metadata": {},
   "source": [
    "# Step 2\n",
    "Aggregate the regions of high indels for each sample"
   ]
  },
  {
   "cell_type": "code",
   "execution_count": null,
   "id": "dcbf89cc-b1ab-4802-be00-dd93239ae540",
   "metadata": {},
   "outputs": [],
   "source": [
    "#perl 02_aggregate.pl"
   ]
  }
 ],
 "metadata": {
  "kernelspec": {
   "display_name": "Python 3",
   "language": "python",
   "name": "python3"
  },
  "language_info": {
   "codemirror_mode": {
    "name": "ipython",
    "version": 3
   },
   "file_extension": ".py",
   "mimetype": "text/x-python",
   "name": "python",
   "nbconvert_exporter": "python",
   "pygments_lexer": "ipython3",
   "version": "3.9.4"
  }
 },
 "nbformat": 4,
 "nbformat_minor": 5
}
