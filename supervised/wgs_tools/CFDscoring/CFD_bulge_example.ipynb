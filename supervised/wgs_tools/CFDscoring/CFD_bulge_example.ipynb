{
 "cells": [
  {
   "cell_type": "code",
   "execution_count": 1,
   "metadata": {},
   "outputs": [],
   "source": [
    "import pickle\n",
    "import argparse\n",
    "import re\n",
    "import numpy as np\n",
    "import pandas as pd"
   ]
  },
  {
   "cell_type": "code",
   "execution_count": 20,
   "metadata": {},
   "outputs": [],
   "source": [
    "class CFD_calculator:\n",
    "    def __init__(self, wt, off, DNA_bulge = False):\n",
    "        wt = wt.upper()\n",
    "        off = off.upper()\n",
    "        if not DNA_bulge:\n",
    "            pam = off[-2:]\n",
    "            sg = off[:-3]\n",
    "            self.cfd_score = self.calc_cfd(wt, sg, pam)\n",
    "        else:\n",
    "            DNA_bulge_size = len(wt) - 23\n",
    "            wt = wt[DNA_bulge_size:]\n",
    "            off = off[DNA_bulge_size:-3]\n",
    "            pam = off[-2:]\n",
    "            self.cfd_score = self.calc_cfd(wt, off, pam)\n",
    "\n",
    "    # Reverse complements a given string\n",
    "    def revcom(self, s):\n",
    "        basecomp = {'A': 'T', 'C': 'G', 'G': 'C', 'T': 'A', 'U': 'A', '-':'-'}\n",
    "        letters = list(s[::-1])\n",
    "        try:\n",
    "            letters = [basecomp[base] for base in letters]\n",
    "        except:\n",
    "            return None\n",
    "        return ''.join(letters)\n",
    "\n",
    "\n",
    "    # Unpickle mismatch scores and PAM scores\n",
    "    def get_mm_pam_scores(self):\n",
    "        try:\n",
    "            mm_scores = pickle.load(open('./mismatch_score.pkl', 'rb'))\n",
    "            pam_scores = pickle.load(open('./PAM_scores.pkl', 'rb'))\n",
    "            return mm_scores, pam_scores\n",
    "        except:\n",
    "            raise Exception(\"Could not find file with mismatch scores or PAM scores\")\n",
    "\n",
    "\n",
    "    # Calculates CFD score\n",
    "    def calc_cfd(self, wt, off, pam):\n",
    "        mm_scores, pam_scores = self.get_mm_pam_scores()    \n",
    "        score = 1\n",
    "        wt = wt.replace('T', 'U')\n",
    "        off = off.replace('T', 'U')\n",
    "        s_list = list(off)\n",
    "        guide_seq_list = list(wt)\n",
    "        for i, sl in enumerate(s_list):\n",
    "            if guide_seq_list[i] == sl:\n",
    "                score *= 1\n",
    "            else:\n",
    "                try:    #Catch exception if IUPAC character\n",
    "                    key = 'r' + guide_seq_list[i] + ':d' + self.revcom(sl) + ',' + str(i + 1)\n",
    "                except Exception as e:\n",
    "                    score = 0\n",
    "                    break\n",
    "                try:\n",
    "                    score *= mm_scores[key]\n",
    "                    # print(i, key, mm_scores[key])\n",
    "                except Exception as e : #If '-' is in first position, i do not have the score for that position\n",
    "                    pass\n",
    "        try:\n",
    "            score *= pam_scores[pam]\n",
    "        except:\n",
    "            score *= 1\n",
    "            print(wt, off, pam, 'no such PAM')\n",
    "            return -1\n",
    "        return score"
   ]
  },
  {
   "cell_type": "markdown",
   "metadata": {},
   "source": [
    "# Mismatch"
   ]
  },
  {
   "cell_type": "code",
   "execution_count": 8,
   "metadata": {},
   "outputs": [
    {
     "data": {
      "text/plain": [
       "0.04238618533415564"
      ]
     },
     "execution_count": 8,
     "metadata": {},
     "output_type": "execute_result"
    }
   ],
   "source": [
    "wt = 'GGCACTGCGGCTGGAGGTGGNNN'\n",
    "off = 'GGCACTGCcGCTGcAGGcGcAGG'\n",
    "cfd = CFD_calculator(wt, off, DNA_bulge=False)\n",
    "cfd.cfd_score"
   ]
  },
  {
   "cell_type": "markdown",
   "metadata": {},
   "source": [
    "# RNA bulge"
   ]
  },
  {
   "cell_type": "code",
   "execution_count": 9,
   "metadata": {},
   "outputs": [
    {
     "data": {
      "text/plain": [
       "0.015007215013226525"
      ]
     },
     "execution_count": 9,
     "metadata": {},
     "output_type": "execute_result"
    }
   ],
   "source": [
    "# # GGCACTGCGGCTGGAGGTGGNNN\tGGCAgcGaGGCTGGAGGa-GAGG\n",
    "wt = 'GGCACTGCGGCTGGAGGTGGNNN'\n",
    "off = 'GGCAgcGaGGCTGGAGGa-GAGG'\n",
    "cfd = CFD_calculator(wt, off, DNA_bulge=False)\n",
    "cfd.cfd_score"
   ]
  },
  {
   "cell_type": "markdown",
   "metadata": {},
   "source": [
    "# DNA bulge"
   ]
  },
  {
   "cell_type": "code",
   "execution_count": 21,
   "metadata": {},
   "outputs": [
    {
     "data": {
      "text/plain": [
       "0.0"
      ]
     },
     "execution_count": 21,
     "metadata": {},
     "output_type": "execute_result"
    }
   ],
   "source": [
    "wt = 'GGCACTGCGGCTG-GAGGTG-GNNN'\n",
    "off = 'cGCcCTGtGGCTGGAGGcGGAGTTA'\n",
    "cfd = CFD_calculator(wt, off, DNA_bulge=True)\n",
    "cfd.cfd_score"
   ]
  },
  {
   "cell_type": "code",
   "execution_count": null,
   "metadata": {},
   "outputs": [],
   "source": []
  }
 ],
 "metadata": {
  "kernelspec": {
   "display_name": "Python 3",
   "language": "python",
   "name": "python3"
  },
  "language_info": {
   "codemirror_mode": {
    "name": "ipython",
    "version": 3
   },
   "file_extension": ".py",
   "mimetype": "text/x-python",
   "name": "python",
   "nbconvert_exporter": "python",
   "pygments_lexer": "ipython3",
   "version": "3.6.10"
  }
 },
 "nbformat": 4,
 "nbformat_minor": 4
}
