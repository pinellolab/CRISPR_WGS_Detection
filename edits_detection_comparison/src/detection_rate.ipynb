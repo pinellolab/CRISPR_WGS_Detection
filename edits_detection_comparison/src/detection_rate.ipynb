{
 "cells": [
  {
   "attachments": {},
   "cell_type": "markdown",
   "metadata": {},
   "source": [
    "# Edits detection rate analysis"
   ]
  },
  {
   "cell_type": "code",
   "execution_count": null,
   "metadata": {},
   "outputs": [],
   "source": [
    "from scipy.stats import mannwhitneyu\n",
    "from typing import Optional\n",
    "from tqdm import tqdm\n",
    "\n",
    "import matplotlib.pyplot as plt\n",
    "import matplotlib.patches as mpatches\n",
    "import seaborn as sns\n",
    "import pandas as pd\n",
    "import numpy as np\n",
    "\n",
    "import warnings\n",
    "import os\n",
    "\n",
    "warnings.simplefilter(action=\"ignore\", category=FutureWarning)\n",
    "warnings.simplefilter(action=\"ignore\", category=UserWarning)\n",
    "warnings.simplefilter(action=\"ignore\", category=RuntimeWarning)"
   ]
  },
  {
   "cell_type": "code",
   "execution_count": null,
   "metadata": {},
   "outputs": [],
   "source": [
    "# data locations\n",
    "BASEDIR = \"/Users/manuel/Desktop/wgs_crisprscas9/data\"\n",
    "REPORTS = os.path.join(BASEDIR, \"reports\")\n",
    "GUIDESEQ = os.path.join(BASEDIR, \"offtargets/guideseq\")\n",
    "CIRCLESEQ = os.path.join(BASEDIR, \"offtargets/circleseq\")\n",
    "RESULTS = \"/Users/manuel/Desktop/wgs_crisprscas9/results\"\n",
    "# data variables\n",
    "VCALLINGTOOLS = [\"mutect2\", \"strelka\", \"varscan\"]\n",
    "GUIDES = [\"EMX1\", \"HEKSite4\", \"RNF2\", \"VEGFASite3\"]\n",
    "EXPERIMENTS = [\"circleseq\", \"guideseq\"]\n",
    "CELLTYPES = [\"GM12878\", \"K562\"]\n",
    "# plots variables\n",
    "MMCOLORMAP = {\n",
    "    0: \"#030303\", \n",
    "    1: \"#5C5B5B\", \n",
    "    2: \"#6A6A6A\", \n",
    "    3: \"#8A8A8A\", \n",
    "    4: \"#A7A7A7\", \n",
    "    5: \"#C2C1C1\", \n",
    "    6: \"#D5D5D5\"\n",
    "}\n",
    "VTYPECOLORMAP = {\n",
    "    \"snv\": \"#056EA2\", \n",
    "    \"deletion\": \"#AA861F\", \n",
    "    \"insertion\": \"#8C00A7\", \n",
    "    \"polyploid\": \"#A20505\"\n",
    "}\n",
    "EDIT_LEN = 23\n",
    "REGION_LEN = 10000\n",
    "REGION_FOCUS_LEN = 100"
   ]
  },
  {
   "attachments": {},
   "cell_type": "markdown",
   "metadata": {},
   "source": [
    "## Edits by offtarget"
   ]
  },
  {
   "cell_type": "code",
   "execution_count": null,
   "metadata": {},
   "outputs": [],
   "source": [
    "def plot_edits_offtargets(\n",
    "    report: pd.DataFrame, guide: str, cell_type: str, exp_type: str, vtool: str\n",
    ") -> None:\n",
    "    f, ax = plt.subplots(1, 1, figsize=(10, 10))\n",
    "    labels = sorted(list(set(report.MISMATCHES.tolist())))\n",
    "    colors = [\"#D85915\", \"#0032B6\"]\n",
    "    # handle empty data\n",
    "    if report.empty:\n",
    "        return\n",
    "    counts = [\n",
    "        [report[(report.MISMATCHES == mm) & (report.FLAG == \"TP\")].shape[0] for mm in labels],\n",
    "        [report[(report.MISMATCHES == mm) & (report.FLAG == \"FP\")].shape[0] for mm in labels],\n",
    "    ]\n",
    "    x = np.arange(len(labels))\n",
    "    width = 0.2\n",
    "    ax.bar(x - width / 2, counts[0], width, label=\"True edits detected\", color=colors[0])\n",
    "    ax.bar(x + width / 2, counts[1], width, label=\"False edits detected\", color=colors[1])\n",
    "    ax.set_ylim(0, max(max(counts[0]), max(counts[1])) + 10)\n",
    "    ax.tick_params(axis=\"x\", labelsize=14)\n",
    "    ax.tick_params(axis=\"y\", labelsize=14)\n",
    "    ax.set_ylabel(\"# Edits\", size=18)\n",
    "    ax.set_xlabel(\"Off-target mismatches\", size=18)\n",
    "    ax.set_xticks(x)\n",
    "    ax.set_xticklabels(labels, {\"fontsize\": 14})\n",
    "    ax.legend([\"True edits detected\", \"False edits detected\"], prop={\"size\": 18})\n",
    "    ax.set_title(f\"{guide}-{cell_type} ({exp_type})\", fontsize=20, fontweight=\"bold\")\n",
    "    outfile = f\"{vtool}_{exp_type}_{cell_type}_{guide}.png\"\n",
    "    plt.savefig(os.path.join(RESULTS, \"edits_by_offtarget\", outfile), format=\"png\")"
   ]
  },
  {
   "cell_type": "code",
   "execution_count": null,
   "metadata": {},
   "outputs": [],
   "source": [
    "for vtool in tqdm(VCALLINGTOOLS):\n",
    "    for guide in GUIDES:\n",
    "        for exp_type in EXPERIMENTS:\n",
    "            for cell_type in CELLTYPES:\n",
    "                report = pd.read_csv(\n",
    "                    os.path.join(\n",
    "                        REPORTS,\n",
    "                        vtool,\n",
    "                        f\"{vtool}_{exp_type}_{cell_type}_{guide}_onregion.tsv\"\n",
    "                    ),\n",
    "                    sep=\"\\t\"\n",
    "                )\n",
    "                plot_edits_offtargets(report, guide, cell_type, exp_type, vtool)"
   ]
  },
  {
   "attachments": {},
   "cell_type": "markdown",
   "metadata": {},
   "source": [
    "## Allele depth supporting phenotype"
   ]
  },
  {
   "cell_type": "code",
   "execution_count": null,
   "metadata": {},
   "outputs": [],
   "source": [
    "def plot_ad_phenotype(\n",
    "    report: pd.DataFrame, guide: str, cell_type: str, exp_type: str, vtool: str\n",
    ") -> None:\n",
    "    f, ax = plt.subplots(1, 1, figsize=(10, 10))\n",
    "    labels = [\n",
    "        \"True edits detected (REF)\", \n",
    "        \"True edits detected (ALT)\",\n",
    "        \"False edits detected (REF)\", \n",
    "        \"False edits detected (ALT)\",\n",
    "    ]\n",
    "    colors = [\"#CB9400\", \"#0084CB\", \"#B200CB\", \"#313131\"]\n",
    "    edits = [\n",
    "        report[report.FLAG == \"TP\"][\"AD-TUMOR-REF\"].tolist(),\n",
    "        report[report.FLAG == \"TP\"][\"AD-TUMOR-ALT\"].tolist(),\n",
    "        report[report.FLAG == \"FP\"][\"AD-TUMOR-REF\"].tolist(),\n",
    "        report[report.FLAG == \"FP\"][\"AD-TUMOR-ALT\"].tolist(),\n",
    "    ]\n",
    "    for i, e in enumerate(edits):\n",
    "        sns.distplot(e, hist=False, label=labels[i], color=colors[i], ax=ax)\n",
    "    ax.tick_params(axis=\"x\", labelsize=14)\n",
    "    ax.tick_params(axis=\"y\", labelsize=14)\n",
    "    ax.set_ylabel(\"# Edits\", size=18)\n",
    "    ax.set_xlabel(\"Allele read depth\", size=18)\n",
    "    ax.legend(labels, prop={\"size\": 18})\n",
    "    ax.set_title(f\"{guide}-{cell_type} ({exp_type})\", fontsize=20, fontweight=\"bold\")\n",
    "    outfile = f\"{vtool}_{exp_type}_{cell_type}_{guide}.png\"\n",
    "    plt.savefig(os.path.join(RESULTS, \"ad_by_phenotype\", outfile), format=\"png\")"
   ]
  },
  {
   "cell_type": "code",
   "execution_count": null,
   "metadata": {},
   "outputs": [],
   "source": [
    "for vtool in tqdm(VCALLINGTOOLS):\n",
    "    for guide in GUIDES:\n",
    "        for exp_type in EXPERIMENTS:\n",
    "            for cell_type in CELLTYPES:\n",
    "                report = pd.read_csv(\n",
    "                    os.path.join(\n",
    "                        REPORTS,\n",
    "                        vtool,\n",
    "                        f\"{vtool}_{exp_type}_{cell_type}_{guide}_onregion.tsv\"\n",
    "                    ),\n",
    "                    sep=\"\\t\"\n",
    "                )\n",
    "                plot_ad_phenotype(report, guide, cell_type, exp_type, vtool)"
   ]
  },
  {
   "attachments": {},
   "cell_type": "markdown",
   "metadata": {},
   "source": [
    "## Allele depth to support editing"
   ]
  },
  {
   "cell_type": "code",
   "execution_count": null,
   "metadata": {},
   "outputs": [],
   "source": [
    "def plot_ad_edit(\n",
    "    report: pd.DataFrame, guide: str, cell_type: str, exp_type: str, vtool: str\n",
    ") -> None:\n",
    "    f, ax = plt.subplots(1, 1, figsize=(10, 10))\n",
    "    labels = [\"True edits detected\", \"False edits detected\"]\n",
    "    colors = [\"#D85915\", \"#0032B6\"]\n",
    "    edits = [\n",
    "        report[report.FLAG == \"TP\"][\"AD-TUMOR-ALT\"].tolist(),\n",
    "        report[report.FLAG == \"FP\"][\"AD-TUMOR-ALT\"].tolist(),\n",
    "    ]\n",
    "    for i, e in enumerate(edits):\n",
    "        sns.distplot(e, hist=False, label=labels[i], color=colors[i], ax=ax)\n",
    "    ax.tick_params(axis=\"x\", labelsize=14)\n",
    "    ax.tick_params(axis=\"y\", labelsize=14)\n",
    "    ax.set_ylabel(\"Density\", size=18)\n",
    "    ax.set_xlabel(\"Allele read depth\", size=18)\n",
    "    ax.legend(labels, prop={\"size\": 18})\n",
    "    ax.set_title(f\"{guide}-{cell_type} ({exp_type})\", fontsize=20, fontweight=\"bold\")\n",
    "    outfile = f\"{vtool}_{exp_type}_{cell_type}_{guide}.png\"\n",
    "    plt.savefig(os.path.join(RESULTS, \"edit_by_ad\", outfile), format=\"png\")"
   ]
  },
  {
   "cell_type": "code",
   "execution_count": null,
   "metadata": {},
   "outputs": [],
   "source": [
    "for vtool in tqdm(VCALLINGTOOLS):\n",
    "    for guide in GUIDES:\n",
    "        for exp_type in EXPERIMENTS:\n",
    "            for cell_type in CELLTYPES:\n",
    "                report = pd.read_csv(\n",
    "                    os.path.join(\n",
    "                        REPORTS,\n",
    "                        vtool,\n",
    "                        f\"{vtool}_{exp_type}_{cell_type}_{guide}_onregion.tsv\"\n",
    "                    ),\n",
    "                    sep=\"\\t\"\n",
    "                )\n",
    "                plot_ad_edit(report, guide, cell_type, exp_type, vtool)"
   ]
  },
  {
   "cell_type": "code",
   "execution_count": null,
   "metadata": {},
   "outputs": [],
   "source": []
  },
  {
   "cell_type": "code",
   "execution_count": null,
   "metadata": {},
   "outputs": [],
   "source": []
  },
  {
   "cell_type": "code",
   "execution_count": null,
   "metadata": {},
   "outputs": [],
   "source": []
  },
  {
   "cell_type": "code",
   "execution_count": null,
   "metadata": {},
   "outputs": [],
   "source": []
  }
 ],
 "metadata": {
  "kernelspec": {
   "display_name": "Python 3",
   "language": "python",
   "name": "python3"
  },
  "language_info": {
   "codemirror_mode": {
    "name": "ipython",
    "version": 3
   },
   "file_extension": ".py",
   "mimetype": "text/x-python",
   "name": "python",
   "nbconvert_exporter": "python",
   "pygments_lexer": "ipython3",
   "version": "3.7.4"
  },
  "orig_nbformat": 4,
  "vscode": {
   "interpreter": {
    "hash": "c00d23e2ea6cb5f075c99cb9345e5e838210bbdac0ea863e00707a54769d3bf2"
   }
  }
 },
 "nbformat": 4,
 "nbformat_minor": 2
}
